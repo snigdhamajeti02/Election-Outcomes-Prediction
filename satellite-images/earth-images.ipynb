{
 "cells": [
  {
   "cell_type": "code",
   "execution_count": 29,
   "metadata": {},
   "outputs": [],
   "source": [
    "import os\n",
    "import ee\n",
    "import requests\n",
    "from PIL import Image\n",
    "from io import BytesIO\n",
    "import geopandas as gpd"
   ]
  },
  {
   "cell_type": "code",
   "execution_count": null,
   "metadata": {},
   "outputs": [],
   "source": [
    "ee.Authenticate()\n",
    "ee.Initialize()"
   ]
  },
  {
   "cell_type": "code",
   "execution_count": null,
   "metadata": {},
   "outputs": [],
   "source": [
    "# Path to the downloaded and unzipped shapefile\n",
    "#shapefile_path = 'cbp-datasets/cb_2023_us_county_500k/cb_2023_us_county_500k.shp'\n",
    "shapefile_path = 'cbp-datasets/cb_2020_us_county_500k/cb_2020_us_county_500k.shp'\n",
    "\n",
    "# Load the shapefile into a GeoDataFrame\n",
    "counties = gpd.read_file(shapefile_path)"
   ]
  },
  {
   "cell_type": "code",
   "execution_count": 68,
   "metadata": {},
   "outputs": [],
   "source": [
    "# Function to fetch satellite image for each county with reduced resolution\n",
    "def fetch_image_for_county(geometry, start_date='2020-01-01', end_date='2020-12-31', width=1024, height=1024): #start_date='2023-01-01', end_data='2023-12-31'\n",
    "    # Sentinel-2 imagery (can also use Landsat if desired)\n",
    "    image_collection = ee.ImageCollection(\"COPERNICUS/S2_SR\") \\\n",
    "                        .filterBounds(geometry) \\\n",
    "                        .filterDate(start_date, end_date) \\\n",
    "                        .filter(ee.Filter.lt('CLOUDY_PIXEL_PERCENTAGE', 10))  \\\n",
    "                        .sort('system:time_start', False)  # Sort by cloud coverage in descending order\n",
    "    \n",
    "    # Filter by general quality and no-data percentage\n",
    "    image_collection = image_collection.filter(ee.Filter.lte('NODATA_PIXEL_PERCENTAGE', 10))  # Filter out images with >20% no-data pixels\n",
    "    \n",
    "    # Sort by cloud coverage percentage, in ascending order (less cloud)\n",
    "    image_collection = image_collection.sort('CLOUDY_PIXEL_PERCENTAGE')\n",
    "\n",
    "    if image_collection.size().getInfo() == 0: \n",
    "        return None\n",
    "\n",
    "    # Get the first (most recent)\n",
    "    image = image_collection.first() \n",
    "\n",
    "    #print(image.propertyNames().getInfo())\n",
    "    \n",
    "    # Select RGB bands (Red, Green, Blue)\n",
    "    image = image.select(['B4', 'B3', 'B2'])  # Red, Green, Blue bands\n",
    "\n",
    "    # Visualization parameters for the RGB image\n",
    "    vis_params = {\n",
    "        'min': 0,\n",
    "        'max': 8000,  # Adjust max value for better visualization\n",
    "        'gamma': 1.4\n",
    "    }\n",
    "\n",
    "    # Generate a thumbnail image URL with reduced size\n",
    "    url = image.getThumbURL({\n",
    "        'min': 0,\n",
    "        'max': 8000,\n",
    "        'gamma': 1.4,\n",
    "        'dimensions': '1024x1024',  # Resize the image to the specified dimensions\n",
    "        'resample': 'bilinear',\n",
    "    })\n",
    "        \n",
    "    return url"
   ]
  },
  {
   "cell_type": "code",
   "execution_count": 69,
   "metadata": {},
   "outputs": [],
   "source": [
    "# Function to download and save the image (convert to RGB before saving)\n",
    "def download_and_save_image(image_url, save_path):\n",
    "    response = requests.get(image_url)\n",
    "    if response.status_code == 200:\n",
    "        # Open the image using PIL\n",
    "        img = Image.open(BytesIO(response.content))\n",
    "        \n",
    "        # Check if the image has an alpha channel (RGBA)\n",
    "        if img.mode == 'RGBA':\n",
    "            # Convert the image to RGB by discarding the alpha channel\n",
    "            img = img.convert('RGB')\n",
    "        \n",
    "        # Save the image as JPEG\n",
    "        img.save(save_path, 'JPEG')\n",
    "        print(f\"Image saved to {save_path}\")\n",
    "    else:\n",
    "        print(f\"Failed to download image from {image_url}\")"
   ]
  },
  {
   "cell_type": "code",
   "execution_count": null,
   "metadata": {},
   "outputs": [],
   "source": [
    "folder_path = r\"2016-US-Counties-Images-500k\"\n",
    "#folder_path = r\"2023-US-Counties-Images-500k\"\n",
    "\n",
    "# Loop through all counties and fetch/save images\n",
    "for idx, county in counties.iterrows():\n",
    "    # Get the county geometry (polygon)\n",
    "    county_geometry = ee.Geometry.Polygon(county['geometry'].__geo_interface__['coordinates'][0])\n",
    "    \n",
    "    # Fetch the satellite image URL for the county\n",
    "    image_url = fetch_image_for_county(county_geometry, width=1024, height=1024)\n",
    "\n",
    "    # Get the county name (remove spaces and special characters for a valid filename)\n",
    "    county_name = county['NAME'].replace(\" \", \"_\").replace(\",\", \"\").replace(\":\", \"\").replace(\"/\", \"_\")\n",
    "    \n",
    "    if image_url is None:\n",
    "        print(f\"{county_name}_{county['GEOID']} not saved\")\n",
    "        continue\n",
    "    \n",
    "    # Define the path to save the image\n",
    "    save_path = os.path.join(folder_path, f\"{county_name}_{county['GEOID']}.jpg\")\n",
    "    \n",
    "    # Download and save the image\n",
    "    download_and_save_image(image_url, save_path)"
   ]
  }
 ],
 "metadata": {
  "kernelspec": {
   "display_name": "base",
   "language": "python",
   "name": "python3"
  },
  "language_info": {
   "codemirror_mode": {
    "name": "ipython",
    "version": 3
   },
   "file_extension": ".py",
   "mimetype": "text/x-python",
   "name": "python",
   "nbconvert_exporter": "python",
   "pygments_lexer": "ipython3",
   "version": "3.11.4"
  }
 },
 "nbformat": 4,
 "nbformat_minor": 2
}
